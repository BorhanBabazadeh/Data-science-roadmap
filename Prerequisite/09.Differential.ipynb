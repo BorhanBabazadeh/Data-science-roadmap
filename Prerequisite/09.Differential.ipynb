{
  "nbformat": 4,
  "nbformat_minor": 0,
  "metadata": {
    "colab": {
      "name": "Derivative|Gradient|Chain Rule.ipynb",
      "provenance": []
    },
    "kernelspec": {
      "name": "python3",
      "display_name": "Python 3"
    },
    "language_info": {
      "name": "python"
    }
  },
  "cells": [
    {
      "cell_type": "markdown",
      "source": [
        "#Derivative - Gradient - Chain Rule"
      ],
      "metadata": {
        "id": "YFPB2XIcRy6P"
      }
    },
    {
      "cell_type": "markdown",
      "source": [
        "##Derivative Definition"
      ],
      "metadata": {
        "id": "9yjg77KXR-Lz"
      }
    },
    {
      "cell_type": "code",
      "source": [
        "def get_derivative(func, x):\n",
        "    \"\"\"Compute the derivative of `func` at the location `x`.\"\"\"\n",
        "    h = 0.0000001                          # step size\n",
        "    return (func(x+h) - func(x)) / h    # rise-over-run - numerical (emprical)\n",
        "\n",
        "def f(x): \n",
        "  return x**2                           # some test function f(x)=x^2\n",
        "\n",
        "x = 3                                   # the location of interest\n",
        "computed = get_derivative(f, x)\n",
        "actual = 2*x\n",
        "\n",
        "computed, actual                        # pretty close if you ask me..."
      ],
      "metadata": {
        "colab": {
          "base_uri": "https://localhost:8080/"
        },
        "id": "PUG9X-BhRydo",
        "outputId": "8ea44b04-6059-4b07-827d-c8dac324ec7d"
      },
      "execution_count": 7,
      "outputs": [
        {
          "output_type": "execute_result",
          "data": {
            "text/plain": [
              "(6.000000087880153, 6)"
            ]
          },
          "metadata": {},
          "execution_count": 7
        }
      ]
    },
    {
      "cell_type": "code",
      "execution_count": 8,
      "metadata": {
        "colab": {
          "base_uri": "https://localhost:8080/"
        },
        "id": "qgh1gO3uRmj9",
        "outputId": "c63cfbdc-db5f-4ded-8740-dd6e634fd64a"
      },
      "outputs": [
        {
          "output_type": "stream",
          "name": "stdout",
          "text": [
            "Requirement already satisfied: sympy in /usr/local/lib/python3.7/dist-packages (1.7.1)\n",
            "Requirement already satisfied: mpmath>=0.19 in /usr/local/lib/python3.7/dist-packages (from sympy) (1.2.1)\n"
          ]
        }
      ],
      "source": [
        "#SymPy Package\n",
        "!pip install sympy"
      ]
    },
    {
      "cell_type": "markdown",
      "source": [
        "*SymPy* is a Python library for symbolic mathematics. It aims to become a full-featured computer algebra system (CAS) while keeping the code as simple as possible in order to be comprehensible and easily extensible. SymPy is written entirely in Python.\n",
        "\n",
        "\n",
        "https://www.sympy.org/en/index.html"
      ],
      "metadata": {
        "id": "Qea8Lg6rSccm"
      }
    },
    {
      "cell_type": "code",
      "source": [
        "import sympy as sym"
      ],
      "metadata": {
        "id": "1QLgzDWyTGOC"
      },
      "execution_count": 9,
      "outputs": []
    },
    {
      "cell_type": "code",
      "source": [
        "x = sym.Symbol('x')"
      ],
      "metadata": {
        "id": "gmx7ityzTVVl"
      },
      "execution_count": 10,
      "outputs": []
    },
    {
      "cell_type": "code",
      "source": [
        "sym.diff(x**5)"
      ],
      "metadata": {
        "colab": {
          "base_uri": "https://localhost:8080/",
          "height": 38
        },
        "id": "8MRspqheTqQ8",
        "outputId": "dcbd9583-e6c7-48bc-9e49-99569377b94d"
      },
      "execution_count": 11,
      "outputs": [
        {
          "output_type": "execute_result",
          "data": {
            "text/latex": "$\\displaystyle 5 x^{4}$",
            "text/plain": [
              "5*x**4"
            ]
          },
          "metadata": {},
          "execution_count": 11
        }
      ]
    },
    {
      "cell_type": "code",
      "source": [
        "sym.diff(x**2 * sym.cos(x))"
      ],
      "metadata": {
        "colab": {
          "base_uri": "https://localhost:8080/",
          "height": 38
        },
        "id": "2fddvQjUUhwr",
        "outputId": "71e2592f-6d80-4985-cdb4-ca7ec4e88454"
      },
      "execution_count": 12,
      "outputs": [
        {
          "output_type": "execute_result",
          "data": {
            "text/latex": "$\\displaystyle - x^{2} \\sin{\\left(x \\right)} + 2 x \\cos{\\left(x \\right)}$",
            "text/plain": [
              "-x**2*sin(x) + 2*x*cos(x)"
            ]
          },
          "metadata": {},
          "execution_count": 12
        }
      ]
    },
    {
      "cell_type": "code",
      "source": [
        "sym.diff(1 / (1 + sym.exp(-x)))  #Sigmoid"
      ],
      "metadata": {
        "colab": {
          "base_uri": "https://localhost:8080/",
          "height": 60
        },
        "id": "q7sSfT8qUyBK",
        "outputId": "f7152b3c-0fe6-4b72-bb33-caafc3a2f3e3"
      },
      "execution_count": 13,
      "outputs": [
        {
          "output_type": "execute_result",
          "data": {
            "text/latex": "$\\displaystyle \\frac{e^{- x}}{\\left(1 + e^{- x}\\right)^{2}}$",
            "text/plain": [
              "exp(-x)/(1 + exp(-x))**2"
            ]
          },
          "metadata": {},
          "execution_count": 13
        }
      ]
    },
    {
      "cell_type": "code",
      "source": [
        "x, y = sym.symbols('x y')"
      ],
      "metadata": {
        "id": "vKOeVEhGU9Hv"
      },
      "execution_count": 14,
      "outputs": []
    },
    {
      "cell_type": "code",
      "source": [
        "sym.diff(x**2 * y, x)"
      ],
      "metadata": {
        "colab": {
          "base_uri": "https://localhost:8080/",
          "height": 38
        },
        "id": "feEKXtkkVRKE",
        "outputId": "ad169c2e-9de2-43d7-c6e4-b3ad31f5270b"
      },
      "execution_count": 15,
      "outputs": [
        {
          "output_type": "execute_result",
          "data": {
            "text/latex": "$\\displaystyle 2 x y$",
            "text/plain": [
              "2*x*y"
            ]
          },
          "metadata": {},
          "execution_count": 15
        }
      ]
    },
    {
      "cell_type": "code",
      "source": [
        "sym.diff(x**2 * y, y)"
      ],
      "metadata": {
        "colab": {
          "base_uri": "https://localhost:8080/",
          "height": 38
        },
        "id": "gBrRboP1Vb5l",
        "outputId": "cc455648-144d-4257-82a1-534a9f86c157"
      },
      "execution_count": 16,
      "outputs": [
        {
          "output_type": "execute_result",
          "data": {
            "text/latex": "$\\displaystyle x^{2}$",
            "text/plain": [
              "x**2"
            ]
          },
          "metadata": {},
          "execution_count": 16
        }
      ]
    },
    {
      "cell_type": "code",
      "source": [
        "x, y, z = sym.symbols('x y z')"
      ],
      "metadata": {
        "id": "KPrBFqAkVdT0"
      },
      "execution_count": 17,
      "outputs": []
    },
    {
      "cell_type": "code",
      "source": [
        "sym.diff(x**2 * y * z**3, z)"
      ],
      "metadata": {
        "colab": {
          "base_uri": "https://localhost:8080/",
          "height": 38
        },
        "id": "5QtF6T8HVjOq",
        "outputId": "56bb65e7-6c96-4495-9c19-3666278c7fc7"
      },
      "execution_count": 18,
      "outputs": [
        {
          "output_type": "execute_result",
          "data": {
            "text/latex": "$\\displaystyle 3 x^{2} y z^{2}$",
            "text/plain": [
              "3*x**2*y*z**2"
            ]
          },
          "metadata": {},
          "execution_count": 18
        }
      ]
    },
    {
      "cell_type": "code",
      "source": [
        "sym.diff(x**2 * y * z**3, x)"
      ],
      "metadata": {
        "colab": {
          "base_uri": "https://localhost:8080/",
          "height": 38
        },
        "id": "zUc8ncVJVoD3",
        "outputId": "c589fda2-67d9-4761-bbe7-9d2abc4fd94e"
      },
      "execution_count": 19,
      "outputs": [
        {
          "output_type": "execute_result",
          "data": {
            "text/latex": "$\\displaystyle 2 x y z^{3}$",
            "text/plain": [
              "2*x*y*z**3"
            ]
          },
          "metadata": {},
          "execution_count": 19
        }
      ]
    }
  ]
}