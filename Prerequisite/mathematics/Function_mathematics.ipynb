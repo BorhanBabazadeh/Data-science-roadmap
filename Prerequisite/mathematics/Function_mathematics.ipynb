{
  "nbformat": 4,
  "nbformat_minor": 0,
  "metadata": {
    "colab": {
      "provenance": []
    },
    "kernelspec": {
      "name": "python3",
      "display_name": "Python 3"
    },
    "language_info": {
      "name": "python"
    }
  },
  "cells": [
    {
      "cell_type": "markdown",
      "metadata": {
        "id": "oa32Fuw2MUJP"
      },
      "source": [
        "#Function Types"
      ]
    },
    {
      "cell_type": "code",
      "metadata": {
        "id": "qWXyN4AQM1sE"
      },
      "source": [
        "import numpy as np"
      ],
      "execution_count": 1,
      "outputs": []
    },
    {
      "cell_type": "code",
      "metadata": {
        "colab": {
          "base_uri": "https://localhost:8080/"
        },
        "id": "sR930KE1MOJv",
        "outputId": "00c29325-f6b8-4270-e3f4-06cf71bb9844"
      },
      "source": [
        "#trigonometry مثلثات\n",
        "x = 0\n",
        "np.sin(x)\n",
        "np.tan(x)\n",
        "np.arccos(x)\n",
        "np.arctan(x)"
      ],
      "execution_count": 2,
      "outputs": [
        {
          "output_type": "execute_result",
          "data": {
            "text/plain": [
              "np.float64(0.0)"
            ]
          },
          "metadata": {},
          "execution_count": 2
        }
      ]
    },
    {
      "cell_type": "code",
      "metadata": {
        "colab": {
          "base_uri": "https://localhost:8080/"
        },
        "id": "VhP-pMvGNfO9",
        "outputId": "b99398c6-5eae-40f2-8a91-a7e71cd43e26"
      },
      "source": [
        "#basics\n",
        "x = 2\n",
        "np.log(x)\n",
        "np.log2(x)\n",
        "np.sqrt(x)\n",
        "y = -2.5\n",
        "np.absolute(y)\n",
        "np.negative(x)\n",
        "np.ceil(y)\n",
        "np.floor(y)\n",
        "np.maximum(x, y)\n",
        "np.minimum(x, y)"
      ],
      "execution_count": 3,
      "outputs": [
        {
          "output_type": "execute_result",
          "data": {
            "text/plain": [
              "np.float64(-2.5)"
            ]
          },
          "metadata": {},
          "execution_count": 3
        }
      ]
    },
    {
      "cell_type": "code",
      "metadata": {
        "colab": {
          "base_uri": "https://localhost:8080/"
        },
        "id": "snJvNRe5dHZV",
        "outputId": "02397cbc-ffd6-4858-9375-10c045e5a412"
      },
      "source": [
        "#تابع مزدوج ساز (البته ویژه اعداد مختلط هست)\n",
        "np.conjugate(1-2j)"
      ],
      "execution_count": 4,
      "outputs": [
        {
          "output_type": "execute_result",
          "data": {
            "text/plain": [
              "np.complex128(1+2j)"
            ]
          },
          "metadata": {},
          "execution_count": 4
        }
      ]
    },
    {
      "cell_type": "code",
      "metadata": {
        "colab": {
          "base_uri": "https://localhost:8080/"
        },
        "id": "UMdbM84qPHXu",
        "outputId": "9ece7c7c-18c0-4ec6-99fa-7f48ac9c46c9"
      },
      "source": [
        "#تابع باقیمانده (با حفظ علامت)\n",
        "x=[13, -14]\n",
        "y=5\n",
        "np.fmod(x, y) #preserve sign"
      ],
      "execution_count": 5,
      "outputs": [
        {
          "output_type": "execute_result",
          "data": {
            "text/plain": [
              "array([ 3, -4])"
            ]
          },
          "metadata": {},
          "execution_count": 5
        }
      ]
    },
    {
      "cell_type": "code",
      "metadata": {
        "colab": {
          "base_uri": "https://localhost:8080/"
        },
        "id": "QVa2-QjjeQ5w",
        "outputId": "6abcef59-a810-46a5-c868-55a50eeb3612"
      },
      "source": [
        "x = np.array([-3, -2.6], dtype=np.int32)\n",
        "x\n",
        "np.fabs(x)"
      ],
      "execution_count": 6,
      "outputs": [
        {
          "output_type": "execute_result",
          "data": {
            "text/plain": [
              "array([3., 2.])"
            ]
          },
          "metadata": {},
          "execution_count": 6
        }
      ]
    },
    {
      "cell_type": "code",
      "metadata": {
        "colab": {
          "base_uri": "https://localhost:8080/"
        },
        "id": "CQjEe1J3e4lN",
        "outputId": "6018f5dc-ae17-405a-9982-ecdf621032b9"
      },
      "source": [
        "#تابع وتر\n",
        "x=[3, 8]\n",
        "y=[4, 6]\n",
        "np.hypot(x, y)"
      ],
      "execution_count": 7,
      "outputs": [
        {
          "output_type": "execute_result",
          "data": {
            "text/plain": [
              "array([ 5., 10.])"
            ]
          },
          "metadata": {},
          "execution_count": 7
        }
      ]
    },
    {
      "cell_type": "code",
      "metadata": {
        "colab": {
          "base_uri": "https://localhost:8080/"
        },
        "id": "NP3NE0FfdStu",
        "outputId": "1947449c-7927-4fea-8ad1-4a83e345fc05"
      },
      "source": [
        "#hyperbolic هیپربولیک\n",
        "x = 0\n",
        "np.sinh(x)\n",
        "np.cosh(x)"
      ],
      "execution_count": 8,
      "outputs": [
        {
          "output_type": "execute_result",
          "data": {
            "text/plain": [
              "np.float64(1.0)"
            ]
          },
          "metadata": {},
          "execution_count": 8
        }
      ]
    },
    {
      "cell_type": "code",
      "metadata": {
        "colab": {
          "base_uri": "https://localhost:8080/",
          "height": 415
        },
        "id": "78siGUCV3Fux",
        "outputId": "7a157249-98a1-4424-d499-5e5f695f145e"
      },
      "source": [
        "import matplotlib.pyplot as plt\n",
        "import numpy as np\n",
        "\n",
        "# 100 linearly spaced numbers\n",
        "x = np.linspace(-5,5,100)\n",
        "\n",
        "# the function, which is y = x^2 here\n",
        "y = 1 / (1+np.exp(-x))\n",
        "\n",
        "# setting the axes at the centre\n",
        "fig = plt.figure()\n",
        "ax = fig.add_subplot(1, 1, 1)\n",
        "ax.spines['left'].set_position('center')\n",
        "ax.spines['bottom'].set_position('zero')\n",
        "ax.spines['right'].set_color('none')\n",
        "ax.spines['top'].set_color('none')\n",
        "ax.xaxis.set_ticks_position('bottom')\n",
        "ax.yaxis.set_ticks_position('left')\n",
        "\n",
        "# plot the function\n",
        "plt.plot(x,y, 'r')\n",
        "\n",
        "# show the plot\n",
        "plt.show()"
      ],
      "execution_count": 9,
      "outputs": [
        {
          "output_type": "display_data",
          "data": {
            "text/plain": [
              "<Figure size 640x480 with 1 Axes>"
            ],
            "image/png": "[encoded data removed]"
          },
          "metadata": {}
        }
      ]
    }
  ]
}