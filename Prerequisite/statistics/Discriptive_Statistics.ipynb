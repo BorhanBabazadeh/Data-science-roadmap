{
  "nbformat": 4,
  "nbformat_minor": 0,
  "metadata": {
    "colab": {
      "provenance": []
    },
    "kernelspec": {
      "name": "python3",
      "display_name": "Python 3"
    },
    "language_info": {
      "name": "python"
    }
  },
  "cells": [
    {
      "cell_type": "markdown",
      "metadata": {
        "id": "8YulQRADcq-e"
      },
      "source": [
        "#Discriptive Statistics"
      ]
    },
    {
      "cell_type": "code",
      "metadata": {
        "id": "BANXK4VMcqLd"
      },
      "source": [
        "import numpy as np"
      ],
      "execution_count": 1,
      "outputs": []
    },
    {
      "cell_type": "code",
      "metadata": {
        "colab": {
          "base_uri": "https://localhost:8080/",
          "height": 0
        },
        "id": "Bd_nvQnVcpcd",
        "outputId": "dd2cccd7-67f3-43b5-e4a9-7be659fbf2e5"
      },
      "source": [
        "#list of integers\n",
        "ex = [23, 12, 24, 32, 30, 11, 10, 15, 18, 23, 23, 14, 13, 31, 23, 19, 23, 32, 17, 35]\n",
        "type(ex)"
      ],
      "execution_count": 2,
      "outputs": [
        {
          "output_type": "execute_result",
          "data": {
            "text/plain": [
              "list"
            ]
          },
          "metadata": {},
          "execution_count": 2
        }
      ]
    },
    {
      "cell_type": "code",
      "metadata": {
        "colab": {
          "base_uri": "https://localhost:8080/",
          "height": 0
        },
        "id": "Nlow2Qxqe642",
        "outputId": "937b6eac-0049-4559-89b0-df9fbfc6b99a"
      },
      "source": [
        "np.min(ex), np.max(ex)"
      ],
      "execution_count": 3,
      "outputs": [
        {
          "output_type": "execute_result",
          "data": {
            "text/plain": [
              "(np.int64(10), np.int64(35))"
            ]
          },
          "metadata": {},
          "execution_count": 3
        }
      ]
    },
    {
      "cell_type": "code",
      "metadata": {
        "colab": {
          "base_uri": "https://localhost:8080/",
          "height": 0
        },
        "id": "5_ZJZI33fHDI",
        "outputId": "2604aab6-c092-4c2c-ee77-e658bacf3e50"
      },
      "source": [
        "#طول لیست = تعداد عناصر آرایه\n",
        "len(ex)"
      ],
      "execution_count": 4,
      "outputs": [
        {
          "output_type": "execute_result",
          "data": {
            "text/plain": [
              "20"
            ]
          },
          "metadata": {},
          "execution_count": 4
        }
      ]
    },
    {
      "cell_type": "code",
      "metadata": {
        "colab": {
          "base_uri": "https://localhost:8080/",
          "height": 0
        },
        "id": "pOS8K0HStMeo",
        "outputId": "77a5214c-9a78-4550-e2ce-503e278947ca"
      },
      "source": [
        "#\n",
        "sum(ex)"
      ],
      "execution_count": 5,
      "outputs": [
        {
          "output_type": "execute_result",
          "data": {
            "text/plain": [
              "428"
            ]
          },
          "metadata": {},
          "execution_count": 5
        }
      ]
    },
    {
      "cell_type": "code",
      "metadata": {
        "colab": {
          "base_uri": "https://localhost:8080/",
          "height": 0
        },
        "id": "tt7dBshKtY_m",
        "outputId": "189a0e92-edee-4ea3-c7fd-87ad4aabaee1"
      },
      "source": [
        "#میانگین دستی داده‌ها\n",
        "ex_ = sum(ex) / len(ex)\n",
        "ex_"
      ],
      "execution_count": 6,
      "outputs": [
        {
          "output_type": "execute_result",
          "data": {
            "text/plain": [
              "21.4"
            ]
          },
          "metadata": {},
          "execution_count": 6
        }
      ]
    },
    {
      "cell_type": "code",
      "metadata": {
        "colab": {
          "base_uri": "https://localhost:8080/",
          "height": 0
        },
        "id": "FFaXp8nGfKpt",
        "outputId": "3f9c56d4-6955-4bc5-c55b-ceb649c9f74e"
      },
      "source": [
        "#میانگین داده‌ها\n",
        "np.mean(ex)"
      ],
      "execution_count": 7,
      "outputs": [
        {
          "output_type": "execute_result",
          "data": {
            "text/plain": [
              "np.float64(21.4)"
            ]
          },
          "metadata": {},
          "execution_count": 7
        }
      ]
    },
    {
      "cell_type": "code",
      "metadata": {
        "colab": {
          "base_uri": "https://localhost:8080/",
          "height": 0
        },
        "id": "8lM6_sZvfckl",
        "outputId": "a555a9df-e26a-48ce-8f46-a8506f4b7307"
      },
      "source": [
        "#مرتب‌سازی لیست\n",
        "np.sort(ex)"
      ],
      "execution_count": 8,
      "outputs": [
        {
          "output_type": "execute_result",
          "data": {
            "text/plain": [
              "array([10, 11, 12, 13, 14, 15, 17, 18, 19, 23, 23, 23, 23, 23, 24, 30, 31,\n",
              "       32, 32, 35])"
            ]
          },
          "metadata": {},
          "execution_count": 8
        }
      ]
    },
    {
      "cell_type": "code",
      "metadata": {
        "colab": {
          "base_uri": "https://localhost:8080/",
          "height": 0
        },
        "id": "AQjwNGuGfS8x",
        "outputId": "4aa6c16c-edb3-4f48-9302-34b7a0e5d2f6"
      },
      "source": [
        "#میانه\n",
        "np.median(ex)"
      ],
      "execution_count": 9,
      "outputs": [
        {
          "output_type": "execute_result",
          "data": {
            "text/plain": [
              "np.float64(23.0)"
            ]
          },
          "metadata": {},
          "execution_count": 9
        }
      ]
    },
    {
      "cell_type": "code",
      "metadata": {
        "colab": {
          "base_uri": "https://localhost:8080/",
          "height": 0
        },
        "id": "BL18XIxuff5y",
        "outputId": "073cb5d2-be9d-4a5f-b71c-c7a7beb6cf17"
      },
      "source": [
        "#مد\n",
        "from scipy import stats\n",
        "stats.mode(ex)"
      ],
      "execution_count": 10,
      "outputs": [
        {
          "output_type": "execute_result",
          "data": {
            "text/plain": [
              "ModeResult(mode=np.int64(23), count=np.int64(5))"
            ]
          },
          "metadata": {},
          "execution_count": 10
        }
      ]
    },
    {
      "cell_type": "code",
      "metadata": {
        "colab": {
          "base_uri": "https://localhost:8080/",
          "height": 0
        },
        "id": "t5lHn9Yif3HS",
        "outputId": "5fcefec6-6f62-4b68-8920-5fbb79507ccc"
      },
      "source": [
        "#انحراف معیار\n",
        "np.std(ex)"
      ],
      "execution_count": 11,
      "outputs": [
        {
          "output_type": "execute_result",
          "data": {
            "text/plain": [
              "np.float64(7.4993333037010705)"
            ]
          },
          "metadata": {},
          "execution_count": 11
        }
      ]
    },
    {
      "cell_type": "code",
      "metadata": {
        "colab": {
          "base_uri": "https://localhost:8080/",
          "height": 0
        },
        "id": "lj6DwG6Hg30s",
        "outputId": "a37280a7-c42c-405e-bb2a-e845740d6044"
      },
      "source": [
        "#واریانس\n",
        "np.var(ex)"
      ],
      "execution_count": 12,
      "outputs": [
        {
          "output_type": "execute_result",
          "data": {
            "text/plain": [
              "np.float64(56.24000000000001)"
            ]
          },
          "metadata": {},
          "execution_count": 12
        }
      ]
    },
    {
      "cell_type": "code",
      "metadata": {
        "colab": {
          "base_uri": "https://localhost:8080/",
          "height": 0
        },
        "id": "OWzqfdsXg7lN",
        "outputId": "8d40e6bd-b575-4cb5-8f72-64b3552310e8"
      },
      "source": [
        "#صدک\n",
        "np.percentile(ex, 75)"
      ],
      "execution_count": 13,
      "outputs": [
        {
          "output_type": "execute_result",
          "data": {
            "text/plain": [
              "np.float64(25.5)"
            ]
          },
          "metadata": {},
          "execution_count": 13
        }
      ]
    },
    {
      "cell_type": "code",
      "metadata": {
        "colab": {
          "base_uri": "https://localhost:8080/",
          "height": 0
        },
        "id": "cc5BK1pUhIEy",
        "outputId": "515761dc-2547-4f11-fbb9-6165f6464af6"
      },
      "source": [
        "#چارک\n",
        "np.quantile(ex, q=0.5)"
      ],
      "execution_count": 14,
      "outputs": [
        {
          "output_type": "execute_result",
          "data": {
            "text/plain": [
              "np.float64(23.0)"
            ]
          },
          "metadata": {},
          "execution_count": 14
        }
      ]
    },
    {
      "cell_type": "code",
      "metadata": {
        "colab": {
          "base_uri": "https://localhost:8080/",
          "height": 0
        },
        "id": "_lwJ7aRPhTAj",
        "outputId": "2fabffc1-0493-4b1c-ba6d-09aebe4b0e90"
      },
      "source": [
        "#لیست حاوی مقدار نامعلوم\n",
        "#missing values!\n",
        "ex_nan = [23, 12, 24, 32, 30, None, 10, 15, 18, 23, 23, 14, 13, 31, 23, 19, 23, 32, 17, 35]\n",
        "type(ex_nan)"
      ],
      "execution_count": 15,
      "outputs": [
        {
          "output_type": "execute_result",
          "data": {
            "text/plain": [
              "list"
            ]
          },
          "metadata": {},
          "execution_count": 15
        }
      ]
    },
    {
      "cell_type": "code",
      "metadata": {
        "id": "jLzVlqPTibCu"
      },
      "source": [],
      "execution_count": 16,
      "outputs": []
    },
    {
      "cell_type": "code",
      "source": [],
      "metadata": {
        "id": "CQhhQgu5yEuC"
      },
      "execution_count": null,
      "outputs": []
    }
  ]
}