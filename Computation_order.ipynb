{
  "nbformat": 4,
  "nbformat_minor": 0,
  "metadata": {
    "colab": {
      "provenance": []
    },
    "kernelspec": {
      "name": "python3",
      "display_name": "Python 3"
    },
    "language_info": {
      "name": "python"
    }
  },
  "cells": [
    {
      "cell_type": "markdown",
      "source": [
        "### 🔍 Performance Comparison of Summation Methods in Python\n",
        "\n",
        "In this notebook, we explore and compare the performance of three different techniques for summing a large sequence of numbers in Python:\n",
        "\n",
        "1. **Built-in `sum()` function** – Python’s native method for summation.  \n",
        "2. **NumPy’s `np.sum()` function** – a highly optimized approach using vectorized operations.  \n",
        "3. **Manual loop-based summation** – a basic iteration method for educational\n",
        "\n",
        "comparison.\n",
        "\n",
        "This comparison is conducted using Python’s `time` module and `%timeit` magic commands to benchmark execution time.\n",
        "\n",
        "The goal is to highlight the performance benefits of using specialized libraries like **NumPy**, which are specifically designed for efficient numerical computing. Understanding these differences is essential for writing high-performance code, especially in data-intensive applications such as **data science**, **machine learning**, and **scientific computing**.\n"
      ],
      "metadata": {
        "id": "FKzA4h_OSLf8"
      }
    },
    {
      "cell_type": "code",
      "source": [
        "# why we always use packages!!\n",
        "#create a list\n",
        "my_list = list(range(1_000_000))\n",
        "my_np_list = np.array(my_list)"
      ],
      "metadata": {
        "id": "3BqK0H-qWdK3",
        "collapsed": true
      },
      "execution_count": 45,
      "outputs": []
    },
    {
      "cell_type": "code",
      "source": [
        "import numpy as np\n",
        "import time"
      ],
      "metadata": {
        "id": "tsmkhGRFWg18"
      },
      "execution_count": 46,
      "outputs": []
    },
    {
      "cell_type": "code",
      "source": [
        "#built-in Function\n",
        "start_time = time.time()\n",
        "sum_list = sum(my_list)\n",
        "end_time = time.time()\n",
        "print(\"built-in function's time is: \",end_time - start_time)\n",
        "#numpy package\n",
        "start_time = time.time()\n",
        "sum_array = np.sum(my_np_list)\n",
        "end_time = time.time()\n",
        "print(\"numpy package's time is: \",end_time - start_time)\n",
        "#manual programming\n",
        "start_time = time.time()\n",
        "array_sum = 0\n",
        "for i in range (len(my_list)):\n",
        "  array_sum += my_list[i]\n",
        "end_time = time.time()\n",
        "print(\"manual programming's time is: \",end_time - start_time)\n",
        "\n"
      ],
      "metadata": {
        "colab": {
          "base_uri": "https://localhost:8080/"
        },
        "id": "4p3DwE4W7L5v",
        "outputId": "682ff191-7938-4022-8dc6-07be2539d555"
      },
      "execution_count": 47,
      "outputs": [
        {
          "output_type": "stream",
          "name": "stdout",
          "text": [
            "built-in function's time is:  0.009659051895141602\n",
            "numpy package's time is:  0.0015082359313964844\n",
            "manual programming's time is:  0.1427326202392578\n"
          ]
        }
      ]
    },
    {
      "cell_type": "markdown",
      "source": [
        "##Magic Functions\n"
      ],
      "metadata": {
        "id": "XB9oqJkTP_vV"
      }
    },
    {
      "cell_type": "code",
      "source": [
        "#built-in Function\n",
        "\n",
        "%timeit  sum_list = sum(my_list)\n",
        "\n"
      ],
      "metadata": {
        "colab": {
          "base_uri": "https://localhost:8080/"
        },
        "id": "Nj_wv2zK9CKp",
        "outputId": "f0293b63-480b-484a-9534-8c219e2dc3ba"
      },
      "execution_count": 32,
      "outputs": [
        {
          "output_type": "stream",
          "name": "stdout",
          "text": [
            "9.15 ms ± 2.04 ms per loop (mean ± std. dev. of 7 runs, 100 loops each)\n"
          ]
        }
      ]
    },
    {
      "cell_type": "code",
      "source": [
        "#numpy package\n",
        "\n",
        "%timeit sum_array = np.sum(my_np_list)"
      ],
      "metadata": {
        "colab": {
          "base_uri": "https://localhost:8080/"
        },
        "id": "r_eROm_iDEtt",
        "outputId": "d8b25b8b-2090-4791-d0b3-04a56ea86ed4"
      },
      "execution_count": 33,
      "outputs": [
        {
          "output_type": "stream",
          "name": "stdout",
          "text": [
            "343 µs ± 11.8 µs per loop (mean ± std. dev. of 7 runs, 1000 loops each)\n"
          ]
        }
      ]
    },
    {
      "cell_type": "code",
      "source": [
        "#manual programming\n",
        "#cell form of %timeit magic function because the code has multiple lines\n",
        "%%timeit\n",
        "array_sum = 0\n",
        "for i in range (len(my_list)):\n",
        "  array_sum += my_list[i]"
      ],
      "metadata": {
        "id": "sJyfw5P7DaO4",
        "colab": {
          "base_uri": "https://localhost:8080/"
        },
        "outputId": "09c771c5-8c45-40f2-d391-e0de8473b70a"
      },
      "execution_count": 44,
      "outputs": [
        {
          "output_type": "stream",
          "name": "stdout",
          "text": [
            "61.7 ms ± 1.81 ms per loop (mean ± std. dev. of 7 runs, 10 loops each)\n"
          ]
        }
      ]
    },
    {
      "cell_type": "code",
      "source": [],
      "metadata": {
        "id": "bkpeIbceG1Q3"
      },
      "execution_count": null,
      "outputs": []
    }
  ]
}